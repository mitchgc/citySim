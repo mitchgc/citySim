{
 "cells": [
  {
   "cell_type": "markdown",
   "metadata": {},
   "source": [
    "# Beat Reflection Processing Tester\n",
    "\n",
    "This notebook allows you to test the JSON parsing and relationship update functions with raw LLM responses."
   ]
  },
  {
   "cell_type": "code",
   "execution_count": 3,
   "metadata": {},
   "outputs": [
    {
     "name": "stdout",
     "output_type": "stream",
     "text": [
      "✅ Setup complete!\n",
      "You can now test JSON parsing and relationship updates.\n"
     ]
    }
   ],
   "source": [
    "# Setup and imports\n",
    "import sys\n",
    "import os\n",
    "import json\n",
    "\n",
    "# Add the current directory to Python path\n",
    "sys.path.insert(0, '.')\n",
    "\n",
    "from prompts.llm_interface import LLMInterface\n",
    "from npc.npc_manager import NPCManager\n",
    "\n",
    "# Initialize the LLM interface\n",
    "llm = LLMInterface()\n",
    "\n",
    "print(\"✅ Setup complete!\")\n",
    "print(\"You can now test JSON parsing and relationship updates.\")"
   ]
  },
  {
   "cell_type": "markdown",
   "metadata": {},
   "source": [
    "## Test JSON Parsing\n",
    "\n",
    "Paste your raw JSON response in the cell below and run it to test the parsing."
   ]
  },
  {
   "cell_type": "code",
   "execution_count": 5,
   "metadata": {},
   "outputs": [],
   "source": [
    "# PASTE YOUR RAW RESPONSE HERE\n",
    "# You can include the ```json markers or just the JSON\n",
    "raw_response = '''\n",
    "```json\n",
    "{\n",
    "  \"relationships\": {\n",
    "    \"Alice\": {\n",
    "      \"label\": \"Cautious Observer\",\n",
    "      \"trust_delta\": -1,\n",
    "      \"affection_delta\": 0,\n",
    "      \"beat_memory\": \"Her persistent unease, while frustrating, highlighted a crucial difference in our approaches to problem-solving.\"\n",
    "    },\n",
    "    \"Bob\": {\n",
    "      \"label\": \"Pragmatic Skeptic\",\n",
    "      \"trust_delta\": -2,\n",
    "      \"affection_delta\": -1,\n",
    "      \"beat_memory\": \"His dismissive attitude towards her concerns reinforced my initial feeling that he prioritized practical solutions over deeper investigation.”\n",
    "    }\n",
    "  },\n",
    "  \"knowledge_gained\": {\n",
    "    \"facts\": [\n",
    "      \"The storage room was forcibly entered.\",\n",
    "      \"Someone stole our food.\",\n",
    "      \"Bob is focused on securing the physical evidence and minimizing potential 'fantastical scenarios'.\"\n",
    "    ],\n",
    "    \"suspicions\": [\n",
    "      \"Bob's insistence on dismissing Alice's concerns suggests he might be deliberately overlooking alternative explanations.\",\n",
    "      \"The forced entry indicates a deliberate act, potentially involving someone who knew about our food supply.\"\n",
    "    ],\n",
    "    \"gossip_worthy\": [\n",
    "      \"Bob's aggressive examination of the lock could be a tactic to intimidate or mislead.\",\n",
    "      \"Alice's intuitive feelings might be a valuable asset, despite Bob's disapproval.\"\n",
    "    ]\n",
    "  }\n",
    "}\n",
    "```\n",
    "'''"
   ]
  },
  {
   "cell_type": "code",
   "execution_count": 40,
   "metadata": {},
   "outputs": [
    {
     "name": "stdout",
     "output_type": "stream",
     "text": [
      "First 200 characters:\n",
      "'{ \"relationships\": { \"Alice\": { \"label\": \"Cautious Observer\", \"trust_delta\": -1, \"affection_delta\": 0, \"beat_memory\": \"Her persistent unease, while frustrating, highlighted a crucial difference in our'\n",
      "\n",
      "Full text:\n",
      "{ \"relationships\": { \"Alice\": { \"label\": \"Cautious Observer\", \"trust_delta\": -1, \"affection_delta\": 0, \"beat_memory\": \"Her persistent unease, while frustrating, highlighted a crucial difference in our approaches to problem-solving.\" }, \"Bob\": { \"label\": \"Pragmatic Skeptic\", \"trust_delta\": -2, \"affection_delta\": -1, \"beat_memory\": \"His dismissive attitude towards her concerns reinforced my initial feeling that he prioritized practical solutions over deeper investigation.\" } }, \"knowledge_gained\": { \"facts\": [ \"The storage room was forcibly entered.\", \"Someone stole our food.\", \"Bob is focused on securing the physical evidence and minimizing potential 'fantastical scenarios'.\" ], \"suspicions\": [ \"Bob's insistence on dismissing Alice's concerns suggests he might be deliberately overlooking alternative explanations.\", \"The forced entry indicates a deliberate act, potentially involving someone who knew about our food supply.\" ], \"gossip_worthy\": [ \"Bob's aggressive examination of the lock could be a tactic to intimidate or mislead.\", \"Alice's intuitive feelings might be a valuable asset, despite Bob's disapproval.\" ] } }\n"
     ]
    },
    {
     "data": {
      "text/plain": [
       "{'relationships': {'Alice': {'label': 'Cautious Observer',\n",
       "   'trust_delta': -1,\n",
       "   'affection_delta': 0,\n",
       "   'beat_memory': 'Her persistent unease, while frustrating, highlighted a crucial difference in our approaches to problem-solving.'},\n",
       "  'Bob': {'label': 'Pragmatic Skeptic',\n",
       "   'trust_delta': -2,\n",
       "   'affection_delta': -1,\n",
       "   'beat_memory': 'His dismissive attitude towards her concerns reinforced my initial feeling that he prioritized practical solutions over deeper investigation.'}},\n",
       " 'knowledge_gained': {'facts': ['The storage room was forcibly entered.',\n",
       "   'Someone stole our food.',\n",
       "   \"Bob is focused on securing the physical evidence and minimizing potential 'fantastical scenarios'.\"],\n",
       "  'suspicions': [\"Bob's insistence on dismissing Alice's concerns suggests he might be deliberately overlooking alternative explanations.\",\n",
       "   'The forced entry indicates a deliberate act, potentially involving someone who knew about our food supply.'],\n",
       "  'gossip_worthy': [\"Bob's aggressive examination of the lock could be a tactic to intimidate or mislead.\",\n",
       "   \"Alice's intuitive feelings might be a valuable asset, despite Bob's disapproval.\"]}}"
      ]
     },
     "execution_count": 40,
     "metadata": {},
     "output_type": "execute_result"
    }
   ],
   "source": [
    "import re\n",
    "json_text = raw_response\n",
    "\n",
    "if \"```json\" in json_text:\n",
    "    # Extract content between ```json and ```\n",
    "    start = json_text.find(\"```json\") + 7\n",
    "    end = json_text.find(\"```\", start)\n",
    "    if end != -1:\n",
    "        json_text = json_text[start:end].strip()\n",
    "        \n",
    "json_text = json_text.replace(\"\"\", '\"').replace(\"\"\", '\"').replace(\"'\", \"'\").replace(\"'\", \"'\")\n",
    "            # Also handle smart/curly apostrophes and additional quote variants\n",
    "json_text = json_text.replace(\"'\", \"'\").replace(\"'\", \"'\").replace(\"‚\", \"'\").replace(\"„\", '\"').replace(\"‟\", '\"').replace(\"”\",'\"')\n",
    "\n",
    "json_text = re.sub(r'[\\r\\n\\t]', ' ', json_text)\n",
    "# Remove other control characters that can break JSON parsing\n",
    "json_text = re.sub(r'[\\x00-\\x08\\x0b\\x0c\\x0e-\\x1f\\x7f]', '', json_text)\n",
    "# Clean up multiple spaces\n",
    "json_text = re.sub(r'\\s+', ' ', json_text)\n",
    "\n",
    "print(\"First 200 characters:\")\n",
    "print(repr(json_text[:200]))\n",
    "print(\"\\nFull text:\")\n",
    "print(json_text)\n",
    "\n",
    "json.loads(json_text)\n",
    "\n"
   ]
  },
  {
   "cell_type": "code",
   "execution_count": 9,
   "metadata": {},
   "outputs": [
    {
     "name": "stdout",
     "output_type": "stream",
     "text": [
      "\n",
      "```json\n",
      "{\n",
      "  \"relationships\": {\n",
      "    \"Alice\": {\n",
      "      \"label\": \"Cautious Observer\",\n",
      "      \"trust_delta\": -1,\n",
      "      \"affection_delta\": 0,\n",
      "      \"beat_memory\": \"Her persistent unease, while frustrating, highlighted a crucial difference in our approaches to problem-solving.\"\n",
      "    },\n",
      "    \"Bob\": {\n",
      "      \"label\": \"Pragmatic Skeptic\",\n",
      "      \"trust_delta\": -2,\n",
      "      \"affection_delta\": -1,\n",
      "      \"beat_memory\": \"His dismissive attitude towards her concerns reinforced my initial feeling that he prioritized practical solutions over deeper investigation.”\n",
      "    }\n",
      "  },\n",
      "  \"knowledge_gained\": {\n",
      "    \"facts\": [\n",
      "      \"The storage room was forcibly entered.\",\n",
      "      \"Someone stole our food.\",\n",
      "      \"Bob is focused on securing the physical evidence and minimizing potential 'fantastical scenarios'.\"\n",
      "    ],\n",
      "    \"suspicions\": [\n",
      "      \"Bob's insistence on dismissing Alice's concerns suggests he might be deliberately overlooking alternative explanations.\",\n",
      "      \"The forced entry indicates a deliberate act, potentially involving someone who knew about our food supply.\"\n",
      "    ],\n",
      "    \"gossip_worthy\": [\n",
      "      \"Bob's aggressive examination of the lock could be a tactic to intimidate or mislead.\",\n",
      "      \"Alice's intuitive feelings might be a valuable asset, despite Bob's disapproval.\"\n",
      "    ]\n",
      "  }\n",
      "}\n",
      "```\n",
      "\n"
     ]
    },
    {
     "data": {
      "text/plain": [
       "{'relationships': {'Alice': {'label': 'Cautious Observer',\n",
       "   'trust_delta': -1,\n",
       "   'affection_delta': 0,\n",
       "   'beat_memory': 'Her persistent unease, while frustrating, highlighted a crucial difference in our approaches to problem-solving.'},\n",
       "  'Bob': {'label': 'Pragmatic Skeptic',\n",
       "   'trust_delta': -2,\n",
       "   'affection_delta': -1,\n",
       "   'beat_memory': 'His dismissive attitude towards her concerns reinforced my initial feeling that he prioritized practical solutions over deeper investigation.'}},\n",
       " 'knowledge_gained': {'facts': ['The storage room was forcibly entered.',\n",
       "   'Someone stole our food.',\n",
       "   \"Bob is focused on securing the physical evidence and minimizing potential 'fantastical scenarios'.\"],\n",
       "  'suspicions': [\"Bob's insistence on dismissing Alice's concerns suggests he might be deliberately overlooking alternative explanations.\",\n",
       "   'The forced entry indicates a deliberate act, potentially involving someone who knew about our food supply.'],\n",
       "  'gossip_worthy': [\"Bob's aggressive examination of the lock could be a tactic to intimidate or mislead.\",\n",
       "   \"Alice's intuitive feelings might be a valuable asset, despite Bob's disapproval.\"]}}"
      ]
     },
     "execution_count": 9,
     "metadata": {},
     "output_type": "execute_result"
    }
   ],
   "source": [
    "import re\n",
    "import json\n",
    "from typing import Dict, Any\n",
    "\n",
    "def _parse_json_response(raw_response):\n",
    "    \"\"\"Unified JSON parsing function (same as mafia.py)\"\"\"\n",
    "    try:\n",
    "        # Extract JSON from markdown code blocks if present\n",
    "        json_text = raw_response\n",
    "        print(json_text)\n",
    "        if \"```json\" in json_text:\n",
    "            # Extract content between ```json and ```\n",
    "            start = json_text.find(\"```json\") + 7\n",
    "            end = json_text.find(\"```\", start)\n",
    "            if end != -1:\n",
    "                json_text = json_text[start:end].strip()\n",
    "        \n",
    "        # Fix all Unicode quotes that break JSON parsing (exactly like mafia.py)\n",
    "        json_text = json_text.replace(\"\"\", '\"').replace(\"\"\", '\"').replace(\"'\", \"'\").replace(\"'\", \"'\")\n",
    "        # Also handle smart/curly apostrophes and additional quote variants\n",
    "        json_text = json_text.replace(\"'\", \"'\").replace(\"'\", \"'\").replace(\"‚\", \"'\").replace(\"„\", '\"').replace(\"‟\", '\"').replace(\"”\",'\"')\n",
    "        \n",
    "        # More aggressive control character cleaning for JSON strings\n",
    "        # Replace newlines and tabs in JSON string values with spaces\n",
    "        json_text = re.sub(r'[\\r\\n\\t]', ' ', json_text)\n",
    "        # Remove other control characters that can break JSON parsing\n",
    "        json_text = re.sub(r'[\\x00-\\x08\\x0b\\x0c\\x0e-\\x1f\\x7f]', '', json_text)\n",
    "        # Clean up multiple spaces\n",
    "        json_text = re.sub(r'\\s+', ' ', json_text)\n",
    "        \n",
    "        # Try to parse the JSON\n",
    "        try: \n",
    "            loaded_json = json.loads(json_text)\n",
    "            return loaded_json\n",
    "        except json.JSONDecodeError as parse_error:\n",
    "            # Debug information when JSON parsing fails\n",
    "            print(\"Non-ASCII characters found:\")\n",
    "            for i, char in enumerate(json_text):\n",
    "                if ord(char) > 127:\n",
    "                    print(f\"Position {i}: {repr(char)} (Unicode: U+{ord(char):04X})\")\n",
    "            \n",
    "            print(f\"JSON parse error at line {parse_error.lineno}, column {parse_error.colno}\")\n",
    "            print(f\"Error message: {parse_error.msg}\")\n",
    "            \n",
    "            # Show the problematic area\n",
    "            lines = json_text.split('\\n')\n",
    "            if parse_error.lineno <= len(lines):\n",
    "                problematic_line = lines[parse_error.lineno - 1]\n",
    "                print(f\"Problematic line: {repr(problematic_line)}\")\n",
    "            \n",
    "            # Re-raise the error so it's caught by the outer except block\n",
    "            raise parse_error\n",
    "            \n",
    "    except json.JSONDecodeError as e:\n",
    "        self.logger.error(f\"❌ Invalid JSON in response: {e}\")\n",
    "        self.logger.error(f\"Response: {content[:200]}...\")  # Show first 200 chars\n",
    "        return {}\n",
    "    except Exception as e:\n",
    "        self.logger.warning(f\"Failed to parse JSON response: {e}\")\n",
    "        return {}\n",
    "\n",
    "# Remove this line - it should be called from within your class instance\n",
    "_parse_json_response(raw_response)"
   ]
  },
  {
   "cell_type": "code",
   "execution_count": null,
   "metadata": {},
   "outputs": [
    {
     "ename": "NameError",
     "evalue": "name 'llm' is not defined",
     "output_type": "error",
     "traceback": [
      "\u001b[0;31m---------------------------------------------------------------------------\u001b[0m",
      "\u001b[0;31mNameError\u001b[0m                                 Traceback (most recent call last)",
      "Input \u001b[0;32mIn [1]\u001b[0m, in \u001b[0;36m<module>\u001b[0;34m\u001b[0m\n\u001b[1;32m      1\u001b[0m \u001b[38;5;66;03m# Parse the JSON\u001b[39;00m\n\u001b[0;32m----> 2\u001b[0m parsed_result \u001b[38;5;241m=\u001b[39m \u001b[43mllm\u001b[49m\u001b[38;5;241m.\u001b[39m_parse_json_response(raw_response)\n",
      "\u001b[0;31mNameError\u001b[0m: name 'llm' is not defined"
     ]
    }
   ],
   "source": [
    "# Parse the JSON\n",
    "parsed_result = llm._parse_json_response(raw_response)"
   ]
  },
  {
   "cell_type": "markdown",
   "metadata": {},
   "source": [
    "## Test Relationship Updates\n",
    "\n",
    "Once JSON parsing works, test updating relationships in the NPC manager."
   ]
  },
  {
   "cell_type": "code",
   "execution_count": null,
   "metadata": {},
   "outputs": [],
   "source": [
    "# Choose which character is doing the reflection\n",
    "reflecting_character = \"Charlie\"  # Change this to Alice, Bob, or Charlie\n",
    "\n",
    "print(f\"=== Testing Relationship Update for {reflecting_character} ===\")\n",
    "\n",
    "# Load the current NPC manager\n",
    "npc_manager = NPCManager.load_from_file(\"saves/npc_data.json\", [\"Alice\", \"Bob\", \"Charlie\"])\n",
    "\n",
    "# Get current relationships\n",
    "print(\"\\n--- Before Update ---\")\n",
    "for other_char in [\"Alice\", \"Bob\", \"Charlie\"]:\n",
    "    if other_char != reflecting_character:\n",
    "        rel = npc_manager.relationships.get_relationship(reflecting_character, other_char)\n",
    "        if rel:\n",
    "            print(f\"{reflecting_character} -> {other_char}: trust={rel.trust}, affection={rel.affection}, status={rel.status.value}\")\n",
    "\n",
    "# Process the reflection if parsing was successful\n",
    "if parsed_result:\n",
    "    print(\"\\n--- Processing Reflection ---\")\n",
    "    try:\n",
    "        npc_manager.process_beat_reflection(reflecting_character, parsed_result)\n",
    "        print(\"✅ Reflection processed successfully!\")\n",
    "        \n",
    "        # Check updated relationships\n",
    "        print(\"\\n--- After Update ---\")\n",
    "        for other_char in [\"Alice\", \"Bob\", \"Charlie\"]:\n",
    "            if other_char != reflecting_character:\n",
    "                rel = npc_manager.relationships.get_relationship(reflecting_character, other_char)\n",
    "                if rel:\n",
    "                    print(f\"{reflecting_character} -> {other_char}: trust={rel.trust}, affection={rel.affection}, status={rel.status.value}\")\n",
    "                    if rel.last_interaction:\n",
    "                        print(f\"  Last interaction: {rel.last_interaction[:50]}...\")\n",
    "        \n",
    "        # Save the results\n",
    "        npc_manager.save_to_file(\"saves/npc_data.json\")\n",
    "        print(\"\\n✅ Results saved to npc_data.json\")\n",
    "        \n",
    "    except Exception as e:\n",
    "        print(f\"❌ Error processing reflection: {e}\")\n",
    "        import traceback\n",
    "        traceback.print_exc()\n",
    "else:\n",
    "    print(\"\\n⚠️ Cannot process reflection - JSON parsing failed\")"
   ]
  },
  {
   "cell_type": "markdown",
   "metadata": {},
   "source": [
    "## Test Truncated JSON\n",
    "\n",
    "Test how the system handles truncated/incomplete JSON responses."
   ]
  },
  {
   "cell_type": "code",
   "execution_count": null,
   "metadata": {},
   "outputs": [],
   "source": [
    "# Example of truncated JSON (like what we see in the logs)\n",
    "truncated_response = '''```json\n",
    "{\n",
    "  \"relationships\": {\n",
    "    \"Alice\": {\n",
    "      \"label\": \"Cautious Observer\",\n",
    "      \"trust_delta\": -1,\n",
    "      \"affection_delta\": 0,\n",
    "      \"beat_memory\": \"Her persistent unease, while frustrating, h\n",
    "'''\n",
    "\n",
    "print(\"=== Testing Truncated JSON Handling ===\")\n",
    "print(f\"Truncated response:\\n{truncated_response}\\n\")\n",
    "\n",
    "# Try to parse it\n",
    "truncated_result = llm._parse_json_response(truncated_response)\n",
    "\n",
    "if truncated_result:\n",
    "    print(\"✅ Somehow parsed the truncated JSON!\")\n",
    "    print(f\"Keys recovered: {list(truncated_result.keys())}\")\n",
    "    if 'relationships' in truncated_result:\n",
    "        print(f\"Relationships recovered: {list(truncated_result.get('relationships', {}).keys())}\")\n",
    "else:\n",
    "    print(\"❌ Failed to parse truncated JSON (as expected)\")\n",
    "    print(\"\\nThis is why reflections are failing - the LLM response gets cut off mid-JSON.\")"
   ]
  },
  {
   "cell_type": "markdown",
   "metadata": {},
   "source": [
    "## Test JSON Repair Function\n",
    "\n",
    "Test the JSON repair function directly to see what it can recover."
   ]
  },
  {
   "cell_type": "code",
   "execution_count": null,
   "metadata": {},
   "outputs": [],
   "source": [
    "# Test the repair function on truncated JSON\n",
    "test_cases = [\n",
    "    # Case 1: Missing closing quotes and braces\n",
    "    '''{\\n      \"relationships\": {\\n        \"Alice\": {\\n          \"label\": \"Test Label\",\\n          \"trust_delta\": 1,\\n          \"beat_memory\": \"This is a test that got cut off''',\n",
    "    \n",
    "    # Case 2: Complete but with control characters\n",
    "    '{\\n      \"test\": \"value with\\\\nnewline and\\\\ttab\"\\n    }',\n",
    "    \n",
    "    # Case 3: Unicode quotes\n",
    "    '{\\n      \"test\": \"value with fancy quotes\"\\n    }'\n",
    "]\n",
    "\n",
    "print(\"=== Testing JSON Repair Function ===\")\n",
    "\n",
    "for i, test_json in enumerate(test_cases, 1):\n",
    "    print(f\"\\nTest Case {i}:\")\n",
    "    print(f\"Input: {test_json[:50]}...\" if len(test_json) > 50 else f\"Input: {test_json}\")\n",
    "    \n",
    "    # Try repair\n",
    "    repaired = llm._attempt_json_repair(test_json)\n",
    "    print(f\"Repaired: {repaired[:50]}...\" if len(repaired) > 50 else f\"Repaired: {repaired}\")\n",
    "    \n",
    "    # Try to parse\n",
    "    try:\n",
    "        result = json.loads(repaired)\n",
    "        print(\"✅ Successfully parsed after repair!\")\n",
    "    except json.JSONDecodeError as e:\n",
    "        print(f\"❌ Still failed after repair: {e}\")"
   ]
  },
  {
   "cell_type": "markdown",
   "metadata": {},
   "source": [
    "## View Current Relationships\n",
    "\n",
    "Quick view of all current relationships in the save file."
   ]
  },
  {
   "cell_type": "code",
   "execution_count": null,
   "metadata": {},
   "outputs": [],
   "source": [
    "# Load and display all current relationships\n",
    "print(\"=== Current Relationships in Save File ===\")\n",
    "\n",
    "with open('saves/npc_data.json', 'r') as f:\n",
    "    data = json.load(f)\n",
    "\n",
    "relationships = data['relationships']['relationships']\n",
    "\n",
    "for rel_key, rel_data in relationships.items():\n",
    "    if rel_data['trust'] is not None:\n",
    "        print(f\"\\n{rel_key}:\")\n",
    "        print(f\"  Status: {rel_data['status']}\")\n",
    "        print(f\"  Trust: {rel_data['trust']}\")\n",
    "        print(f\"  Affection: {rel_data['affection']}\")\n",
    "        print(f\"  Label: {rel_data.get('label', 'N/A')}\")\n",
    "        if rel_data.get('last_interaction'):\n",
    "            print(f\"  Last interaction: {rel_data['last_interaction'][:60]}...\")\n",
    "    else:\n",
    "        print(f\"\\n{rel_key}: Not established (null values)\")\n",
    "\n",
    "# Count established relationships\n",
    "established = sum(1 for r in relationships.values() if r['trust'] is not None)\n",
    "print(f\"\\n📊 Summary: {established}/{len(relationships)} relationships established\")"
   ]
  }
 ],
 "metadata": {
  "kernelspec": {
   "display_name": "Python 3",
   "language": "python",
   "name": "python3"
  },
  "language_info": {
   "codemirror_mode": {
    "name": "ipython",
    "version": 3
   },
   "file_extension": ".py",
   "mimetype": "text/x-python",
   "name": "python",
   "nbconvert_exporter": "python",
   "pygments_lexer": "ipython3",
   "version": "3.10.2"
  }
 },
 "nbformat": 4,
 "nbformat_minor": 4
}
